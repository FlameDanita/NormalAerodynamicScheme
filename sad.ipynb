{
 "cells": [
  {
   "cell_type": "code",
   "execution_count": 3,
   "metadata": {},
   "outputs": [
    {
     "ename": "FileNotFoundError",
     "evalue": "Could not find module 'F:\\AASM6\\AASM6_Python\\AASM6_DYN.dll' (or one of its dependencies). Try using the full path with constructor syntax.",
     "output_type": "error",
     "traceback": [
      "\u001b[1;31m---------------------------------------------------------------------------\u001b[0m",
      "\u001b[1;31mFileNotFoundError\u001b[0m                         Traceback (most recent call last)",
      "Cell \u001b[1;32mIn [3], line 1\u001b[0m\n\u001b[1;32m----> 1\u001b[0m \u001b[38;5;28;01mfrom\u001b[39;00m \u001b[38;5;21;01mAASM6\u001b[39;00m \u001b[38;5;28;01mimport\u001b[39;00m \u001b[38;5;241m*\u001b[39m\n\u001b[0;32m      2\u001b[0m \u001b[38;5;28;01mimport\u001b[39;00m \u001b[38;5;21;01mnumpy\u001b[39;00m \u001b[38;5;28;01mas\u001b[39;00m \u001b[38;5;21;01mnp\u001b[39;00m\n",
      "File \u001b[1;32mc:\\Users\\Александр\\Documents\\GitHub\\NormalAerodynamicScheme\\AASM6.py:4\u001b[0m\n\u001b[0;32m      1\u001b[0m \u001b[39mimport\u001b[39;00m \u001b[39mctypes\u001b[39;00m\n\u001b[0;32m      3\u001b[0m \u001b[39m#  Подключение DLL\u001b[39;00m\n\u001b[1;32m----> 4\u001b[0m libstructpy \u001b[39m=\u001b[39m ctypes\u001b[39m.\u001b[39;49mCDLL(\u001b[39m'\u001b[39;49m\u001b[39mF:/AASM6/AASM6_Python/AASM6_DYN.dll\u001b[39;49m\u001b[39m'\u001b[39;49m)\n\u001b[0;32m      6\u001b[0m ErrorMessageTable \u001b[39m=\u001b[39m {\n\u001b[0;32m      7\u001b[0m     \u001b[39m1\u001b[39m: \u001b[39m'\u001b[39m\u001b[39mчисло должно быть действительным\u001b[39m\u001b[39m'\u001b[39m,\n\u001b[0;32m      8\u001b[0m     \u001b[39m2\u001b[39m: \u001b[39m'\u001b[39m\u001b[39mчисло не должно быть отрицательным\u001b[39m\u001b[39m'\u001b[39m,\n\u001b[1;32m   (...)\u001b[0m\n\u001b[0;32m     21\u001b[0m     \u001b[39m15\u001b[39m: \u001b[39m'\u001b[39m\u001b[39mнесущая поверхность не должна заходить на носовую часть ЛА\u001b[39m\u001b[39m\"\u001b[39m\u001b[39m'\u001b[39m,\n\u001b[0;32m     22\u001b[0m }\n\u001b[0;32m     24\u001b[0m \u001b[39m# класс, который соответствует структуре ErrorCode (AASM6_DYN.h)\u001b[39;00m\n",
      "File \u001b[1;32mc:\\Users\\Александр\\AppData\\Local\\Programs\\Python\\Python310\\lib\\ctypes\\__init__.py:374\u001b[0m, in \u001b[0;36mCDLL.__init__\u001b[1;34m(self, name, mode, handle, use_errno, use_last_error, winmode)\u001b[0m\n\u001b[0;32m    371\u001b[0m \u001b[39mself\u001b[39m\u001b[39m.\u001b[39m_FuncPtr \u001b[39m=\u001b[39m _FuncPtr\n\u001b[0;32m    373\u001b[0m \u001b[39mif\u001b[39;00m handle \u001b[39mis\u001b[39;00m \u001b[39mNone\u001b[39;00m:\n\u001b[1;32m--> 374\u001b[0m     \u001b[39mself\u001b[39m\u001b[39m.\u001b[39m_handle \u001b[39m=\u001b[39m _dlopen(\u001b[39mself\u001b[39;49m\u001b[39m.\u001b[39;49m_name, mode)\n\u001b[0;32m    375\u001b[0m \u001b[39melse\u001b[39;00m:\n\u001b[0;32m    376\u001b[0m     \u001b[39mself\u001b[39m\u001b[39m.\u001b[39m_handle \u001b[39m=\u001b[39m handle\n",
      "\u001b[1;31mFileNotFoundError\u001b[0m: Could not find module 'F:\\AASM6\\AASM6_Python\\AASM6_DYN.dll' (or one of its dependencies). Try using the full path with constructor syntax."
     ]
    }
   ],
   "source": [
    "from AASM6 import *\n",
    "import numpy as np  #pip install numpy"
   ]
  },
  {
   "cell_type": "code",
   "execution_count": null,
   "metadata": {},
   "outputs": [],
   "source": [
    "print('Cyalf_ConCil:')\n",
    "M = 1\n",
    "lambda_nos = 2\n",
    "lambda_cil = 1\n",
    "Cyalf_ConCil = get_Cyalf_ConCil(\n",
    "    M=M,\n",
    "    lambda_nos=lambda_nos,\n",
    "    lambda_cil=lambda_cil\n",
    ")\n",
    "print(f'M = {M}')\n",
    "print(f'lambda_nos = {lambda_nos}')\n",
    "print(f'lambda_cil = {lambda_cil}')\n",
    "print('Result =', np.deg2rad(Cyalf_ConCil['Result']))\n",
    "print('x1_Min =', Cyalf_ConCil['x1']['Min'])\n",
    "print('x1_Value =', Cyalf_ConCil['x1']['Value'])\n",
    "print('x1_Max =', Cyalf_ConCil['x1']['Max'])\n",
    "print('x2_Min =', Cyalf_ConCil['x2']['Min'])\n",
    "print('x2_Value =', Cyalf_ConCil['x2']['Value'])\n",
    "print('x2_Max =', Cyalf_ConCil['x2']['Max'])\n",
    "print()"
   ]
  },
  {
   "cell_type": "code",
   "execution_count": null,
   "metadata": {},
   "outputs": [],
   "source": []
  }
 ],
 "metadata": {
  "kernelspec": {
   "display_name": "Python 3.10.7 64-bit (system)",
   "language": "python",
   "name": "python3"
  },
  "language_info": {
   "codemirror_mode": {
    "name": "ipython",
    "version": 3
   },
   "file_extension": ".py",
   "mimetype": "text/x-python",
   "name": "python",
   "nbconvert_exporter": "python",
   "pygments_lexer": "ipython3",
   "version": "3.10.7"
  },
  "orig_nbformat": 4,
  "vscode": {
   "interpreter": {
    "hash": "f6a3a25c74cd0da2192a41ef485804de5be3e8bfabdab7b7d3444c62efa2594c"
   }
  }
 },
 "nbformat": 4,
 "nbformat_minor": 2
}
