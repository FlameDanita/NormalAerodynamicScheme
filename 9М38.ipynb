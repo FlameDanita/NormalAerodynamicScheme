{
 "cells": [
  {
   "cell_type": "markdown",
   "metadata": {},
   "source": [
    "Длина на чертеже 1025 / 5500  \n",
    "Диамер 80 / 400  \n",
    "Длина носовой части 142 / x"
   ]
  },
  {
   "cell_type": "code",
   "execution_count": 1,
   "metadata": {},
   "outputs": [],
   "source": []
  },
  {
   "cell_type": "code",
   "execution_count": null,
   "metadata": {},
   "outputs": [],
   "source": [
    "class Base:\n",
    "    def __init__(self):\n",
    "        self.val = 0\n",
    "\n",
    "    def add_one(self):\n",
    "        self.val += 1\n",
    "\n",
    "    def add_many(self, x):\n",
    "        for i in range(x):\n",
    "            self.add_one()\n",
    "\n",
    "class Derived(Base):\n",
    "    def add_one(self):\n",
    "        self.val += 10\n",
    "\n",
    "a = Derived()\n",
    "a.add_one()"
   ]
  },
  {
   "cell_type": "code",
   "execution_count": 3,
   "metadata": {},
   "outputs": [],
   "source": [
    "def scaling(axis, len):\n",
    "    if axis == 'x':\n",
    "        scale = 5500 / 1025\n",
    "        return len * scale\n",
    "    elif axis == 'y':\n",
    "        scale = 400 / 80\n",
    "        return len * scale"
   ]
  },
  {
   "cell_type": "code",
   "execution_count": 30,
   "metadata": {},
   "outputs": [],
   "source": [
    "class nose():\n",
    "    def __init__(self):\n",
    "        self.nose_type = 'Конус + цилиндр'\n",
    "        self.nose_diametr = 400\n",
    "        self.nose_lenght = scaling('x', 142)"
   ]
  },
  {
   "cell_type": "code",
   "execution_count": 34,
   "metadata": {},
   "outputs": [
    {
     "name": "stdout",
     "output_type": "stream",
     "text": [
      "400 -- 761.9512195121952 -- Конус + цилиндр\n"
     ]
    }
   ],
   "source": [
    "n = nose()\n",
    "print(n.nose_diametr, n.nose_lenght, n.nose_type, sep = ' -- ')"
   ]
  },
  {
   "cell_type": "code",
   "execution_count": 31,
   "metadata": {},
   "outputs": [],
   "source": [
    "class LA(nose): #, ADS_I, ADS_II, tail\n",
    "    def __init__(self):\n",
    "        self.lenght = 5500\n",
    "        "
   ]
  },
  {
   "cell_type": "code",
   "execution_count": 26,
   "metadata": {},
   "outputs": [
    {
     "name": "stdout",
     "output_type": "stream",
     "text": [
      "761.9512195121952\n"
     ]
    }
   ],
   "source": [
    "object = LA()\n",
    "print(object.lenght)"
   ]
  },
  {
   "cell_type": "code",
   "execution_count": null,
   "metadata": {},
   "outputs": [],
   "source": []
  }
 ],
 "metadata": {
  "kernelspec": {
   "display_name": "Python 3.10.7 64-bit (system)",
   "language": "python",
   "name": "python3"
  },
  "language_info": {
   "codemirror_mode": {
    "name": "ipython",
    "version": 3
   },
   "file_extension": ".py",
   "mimetype": "text/x-python",
   "name": "python",
   "nbconvert_exporter": "python",
   "pygments_lexer": "ipython3",
   "version": "3.10.7"
  },
  "orig_nbformat": 4,
  "vscode": {
   "interpreter": {
    "hash": "f6a3a25c74cd0da2192a41ef485804de5be3e8bfabdab7b7d3444c62efa2594c"
   }
  }
 },
 "nbformat": 4,
 "nbformat_minor": 2
}
