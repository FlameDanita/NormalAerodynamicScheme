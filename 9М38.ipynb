{
 "cells": [
  {
   "cell_type": "markdown",
   "metadata": {},
   "source": [
    "Длина на чертеже 1025 / 5500  \n",
    "Диамер 80 / 400  \n",
    "Длина носовой части 142 / x"
   ]
  },
  {
   "cell_type": "code",
   "execution_count": 1,
   "metadata": {},
   "outputs": [],
   "source": [
    "from AASM6 import *"
   ]
  },
  {
   "cell_type": "code",
   "execution_count": 2,
   "metadata": {},
   "outputs": [],
   "source": [
    "def scaling(axis, len):\n",
    "    if axis == 'x':\n",
    "        scale = 5500 / 1025\n",
    "        return len * scale\n",
    "    elif axis == 'y':\n",
    "        scale = 400 / 80\n",
    "        return len * scale"
   ]
  },
  {
   "cell_type": "code",
   "execution_count": 3,
   "metadata": {},
   "outputs": [],
   "source": [
    "M = [0.1, 0.5, 1, 1.5, 2, 2.5, 3]"
   ]
  },
  {
   "cell_type": "code",
   "execution_count": 50,
   "metadata": {},
   "outputs": [],
   "source": [
    "class nose:\n",
    "    def __init__(self, type='оживало', len=1, diam=400):\n",
    "        self.type = type\n",
    "        self.len = scaling('x', 142)\n",
    "        self.diam = diam\n",
    "        \n",
    "    def calculate(self):\n",
    "        self.lambda_ = self.len / self.diam"
   ]
  },
  {
   "cell_type": "code",
   "execution_count": 62,
   "metadata": {},
   "outputs": [
    {
     "name": "stdout",
     "output_type": "stream",
     "text": [
      "оживало\n"
     ]
    }
   ],
   "source": [
    "nose_ = nose()\n",
    "print(nose_.type)\n",
    "nose_.calculate()"
   ]
  },
  {
   "cell_type": "code",
   "execution_count": 64,
   "metadata": {},
   "outputs": [],
   "source": [
    "class LA(nose): #, ADS_I, ADS_II, tail\n",
    "    def __init__(self, len=5500, diam=400):\n",
    "        self.len = len\n",
    "        self.diam = diam\n",
    "        \n",
    "    def calculate(self, nose):\n",
    "        self.lambda_ = self.len / self.diam\n",
    "        if nose.type == 'оживало':\n",
    "            self.Cyalf = get_Cyalf_OgiCil(M[3], nose.lambda_, self.lambda_)\n",
    "        "
   ]
  },
  {
   "cell_type": "code",
   "execution_count": 68,
   "metadata": {},
   "outputs": [
    {
     "name": "stdout",
     "output_type": "stream",
     "text": [
      "13.75\n"
     ]
    }
   ],
   "source": [
    "object = LA()\n",
    "object.calculate(nose_)\n",
    "print(object.lambda_)"
   ]
  },
  {
   "cell_type": "code",
   "execution_count": null,
   "metadata": {},
   "outputs": [],
   "source": []
  },
  {
   "cell_type": "code",
   "execution_count": null,
   "metadata": {},
   "outputs": [],
   "source": []
  }
 ],
 "metadata": {
  "kernelspec": {
   "display_name": "Python 3.10.7 64-bit (system)",
   "language": "python",
   "name": "python3"
  },
  "language_info": {
   "codemirror_mode": {
    "name": "ipython",
    "version": 3
   },
   "file_extension": ".py",
   "mimetype": "text/x-python",
   "name": "python",
   "nbconvert_exporter": "python",
   "pygments_lexer": "ipython3",
   "version": "3.10.7"
  },
  "orig_nbformat": 4,
  "vscode": {
   "interpreter": {
    "hash": "f6a3a25c74cd0da2192a41ef485804de5be3e8bfabdab7b7d3444c62efa2594c"
   }
  }
 },
 "nbformat": 4,
 "nbformat_minor": 2
}
